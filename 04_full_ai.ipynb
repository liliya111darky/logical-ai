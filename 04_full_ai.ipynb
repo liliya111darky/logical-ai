{
  "nbformat": 4,
  "nbformat_minor": 0,
  "metadata": {
    "colab": {
      "provenance": [],
      "authorship_tag": "ABX9TyOyelW29IyyMG6MsKKvm47r",
      "include_colab_link": true
    },
    "kernelspec": {
      "name": "python3",
      "display_name": "Python 3"
    },
    "language_info": {
      "name": "python"
    }
  },
  "cells": [
    {
      "cell_type": "markdown",
      "metadata": {
        "id": "view-in-github",
        "colab_type": "text"
      },
      "source": [
        "<a href=\"https://colab.research.google.com/github/liliya111darky/logical-ai/blob/notebooks/04_full_ai.ipynb\" target=\"_parent\"><img src=\"https://colab.research.google.com/assets/colab-badge.svg\" alt=\"Open In Colab\"/></a>"
      ]
    },
    {
      "cell_type": "code",
      "execution_count": 3,
      "metadata": {
        "colab": {
          "base_uri": "https://localhost:8080/",
          "height": 397
        },
        "id": "QWTKGgDQJ32Y",
        "outputId": "03809e3d-50b9-46ea-8fa9-03ee05e6b78a"
      },
      "outputs": [
        {
          "output_type": "error",
          "ename": "ModuleNotFoundError",
          "evalue": "No module named 'z3'",
          "traceback": [
            "\u001b[0;31m---------------------------------------------------------------------------\u001b[0m",
            "\u001b[0;31mModuleNotFoundError\u001b[0m                       Traceback (most recent call last)",
            "\u001b[0;32m/tmp/ipython-input-2595102878.py\u001b[0m in \u001b[0;36m<cell line: 0>\u001b[0;34m()\u001b[0m\n\u001b[1;32m      2\u001b[0m \u001b[0;32mimport\u001b[0m \u001b[0msympy\u001b[0m \u001b[0;32mas\u001b[0m \u001b[0msp\u001b[0m\u001b[0;34m\u001b[0m\u001b[0;34m\u001b[0m\u001b[0m\n\u001b[1;32m      3\u001b[0m \u001b[0;32mfrom\u001b[0m \u001b[0msympy\u001b[0m \u001b[0;32mimport\u001b[0m \u001b[0msympify\u001b[0m\u001b[0;34m\u001b[0m\u001b[0;34m\u001b[0m\u001b[0m\n\u001b[0;32m----> 4\u001b[0;31m \u001b[0;32mfrom\u001b[0m \u001b[0mz3\u001b[0m \u001b[0;32mimport\u001b[0m \u001b[0;34m*\u001b[0m\u001b[0;34m\u001b[0m\u001b[0;34m\u001b[0m\u001b[0m\n\u001b[0m\u001b[1;32m      5\u001b[0m \u001b[0;32mimport\u001b[0m \u001b[0msqlite3\u001b[0m\u001b[0;34m\u001b[0m\u001b[0;34m\u001b[0m\u001b[0m\n\u001b[1;32m      6\u001b[0m \u001b[0;32mfrom\u001b[0m \u001b[0mtransformers\u001b[0m \u001b[0;32mimport\u001b[0m \u001b[0mpipeline\u001b[0m\u001b[0;34m\u001b[0m\u001b[0;34m\u001b[0m\u001b[0m\n",
            "\u001b[0;31mModuleNotFoundError\u001b[0m: No module named 'z3'",
            "",
            "\u001b[0;31m---------------------------------------------------------------------------\u001b[0;32m\nNOTE: If your import is failing due to a missing package, you can\nmanually install dependencies using either !pip or !apt.\n\nTo view examples of installing some common dependencies, click the\n\"Open Examples\" button below.\n\u001b[0;31m---------------------------------------------------------------------------\u001b[0m\n"
          ],
          "errorDetails": {
            "actions": [
              {
                "action": "open_url",
                "actionText": "Open Examples",
                "url": "/notebooks/snippets/importing_libraries.ipynb"
              }
            ]
          }
        }
      ],
      "source": [
        "# ---------- Импорт библиотек ----------\n",
        "import sympy as sp\n",
        "from sympy import sympify\n",
        "from z3 import *\n",
        "import sqlite3\n",
        "from transformers import pipeline\n",
        "\n",
        "# NLP-модель\n",
        "nlp_model = pipeline(\"sentiment-analysis\")\n",
        "\n",
        "# ---------- Память ----------\n",
        "DB_PATH = \"facts.db\"\n",
        "\n",
        "def init_db():\n",
        "    conn = sqlite3.connect(DB_PATH)\n",
        "    cur = conn.cursor()\n",
        "    cur.execute(\"\"\"\n",
        "        CREATE TABLE IF NOT EXISTS facts (\n",
        "            id INTEGER PRIMARY KEY AUTOINCREMENT,\n",
        "            text TEXT UNIQUE,\n",
        "            type TEXT,\n",
        "            extra TEXT\n",
        "        )\n",
        "    \"\"\")\n",
        "    conn.commit()\n",
        "    conn.close()\n",
        "\n",
        "def save_fact(text, fact_type, extra_info=\"\"):\n",
        "    conn = sqlite3.connect(DB_PATH)\n",
        "    cur = conn.cursor()\n",
        "    try:\n",
        "        cur.execute(\"INSERT INTO facts (text, type, extra) VALUES (?, ?, ?)\",\n",
        "                    (text, fact_type, str(extra_info)))\n",
        "        conn.commit()\n",
        "    except sqlite3.IntegrityError:\n",
        "        pass\n",
        "    conn.close()\n",
        "\n",
        "def get_all_facts():\n",
        "    conn = sqlite3.connect(DB_PATH)\n",
        "    cur = conn.cursor()\n",
        "    cur.execute(\"SELECT text, type, extra FROM facts\")\n",
        "    rows = cur.fetchall()\n",
        "    conn.close()\n",
        "    return rows\n",
        "\n",
        "def contradicts_existing(new_text):\n",
        "    all_facts = [row[0] for row in get_all_facts()]\n",
        "    neg_versions = [f\"не ({new_text})\", f\"НЕ {new_text}\", f\"not ({new_text})\"]\n",
        "    return any(fact in neg_versions for fact in all_facts)\n",
        "\n",
        "init_db()\n",
        "\n",
        "# ---------- Математическая проверка ----------\n",
        "def check_math(statement):\n",
        "    try:\n",
        "        if \"=\" in statement:\n",
        "            left, right = statement.split(\"=\")\n",
        "            return sp.simplify(sympify(left) - sympify(right)) == 0\n",
        "        else:\n",
        "            return bool(sympify(statement))\n",
        "    except:\n",
        "        return None\n",
        "\n",
        "# ---------- Логическая проверка через Z3 ----------\n",
        "def check_implication(conditions, conclusion):\n",
        "    solver = Solver()\n",
        "    A, B, C, D = Bools('A B C D')  # до 4 переменных\n",
        "    cond_expr = eval(conditions)\n",
        "    concl_expr = eval(conclusion)\n",
        "    solver.add(cond_expr, Not(concl_expr))\n",
        "    return solver.check() == unsat\n",
        "\n",
        "# ---------- Единый анализ ----------\n",
        "def analyze_input(text):\n",
        "    # 1. Проверка на противоречие\n",
        "    if contradicts_existing(text):\n",
        "        return {\"type\": \"conflict\", \"message\": \"⚠️ Противоречие с памятью\"}\n",
        "\n",
        "    # 2. Математика\n",
        "    if any(op in text for op in [\"=\", \">\", \"<\"]):\n",
        "        math_result = check_math(text)\n",
        "        if math_result is True:\n",
        "            save_fact(text, \"math_true\")\n",
        "            return {\"type\": \"math_true\", \"message\": \"✅ Математический факт сохранён\"}\n",
        "        elif math_result is False:\n",
        "            return {\"type\": \"math_false\", \"message\": \"❌ Математическая проверка не пройдена\"}\n",
        "\n",
        "    # 3. Логика \"если ... то ...\"\n",
        "    if \"если\" in text.lower() and \"то\" in text.lower():\n",
        "        try:\n",
        "            parts = text.lower().replace(\"если\", \"\").split(\"то\")\n",
        "            conds = parts[0].strip()\n",
        "            concl = parts[1].strip()\n",
        "            if check_implication(conds, concl):\n",
        "                save_fact(text, \"valid_implication\")\n",
        "                return {\"type\": \"valid_implication\", \"message\": \"✅ Логическая импликация сохранена\"}\n",
        "            else:\n",
        "                return {\"type\": \"invalid_implication\", \"message\": \"❌ Импликация неверна\"}\n",
        "        except:\n",
        "            pass\n",
        "\n",
        "    # 4. NLP-анализ текста\n",
        "    sentiment = nlp_model(text)[0]\n",
        "    return {\"type\": \"text\", \"sentiment\": sentiment}\n",
        "\n",
        "# ---------- Примеры ----------\n",
        "print(analyze_input(\"2+2=4\"))\n",
        "print(analyze_input(\"Если A > B и B > C то A > C\"))\n",
        "print(analyze_input(\"Сегодня солнечно и тепло\"))\n",
        "print(\"Память:\", get_all_facts())"
      ]
    }
  ]
}