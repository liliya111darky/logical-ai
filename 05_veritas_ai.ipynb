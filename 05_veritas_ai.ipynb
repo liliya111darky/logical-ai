{
  "cells": [
    {
      "cell_type": "markdown",
      "metadata": {
        "id": "view-in-github",
        "colab_type": "text"
      },
      "source": [
        "<a href=\"https://colab.research.google.com/github/liliya111darky/logical-ai/blob/notebooks/05_veritas_ai.ipynb\" target=\"_parent\"><img src=\"https://colab.research.google.com/assets/colab-badge.svg\" alt=\"Open In Colab\"/></a>"
      ]
    },
    {
      "cell_type": "code",
      "source": [
        "# ============================================\n",
        "# 5. Telegram-бот для Numen\n",
        "# ============================================\n",
        "\n",
        "import sympy as sp\n",
        "from sympy import sympify\n",
        "from z3 import *\n",
        "import sqlite3\n",
        "import json\n",
        "import os\n",
        "from telegram import Update\n",
        "from telegram.ext import ApplicationBuilder, CommandHandler, MessageHandler, ContextTypes, filters\n",
        "\n",
        "# ===== Настройки =====\n",
        "TELEGRAM_TOKEN = \"7886763904:AAGsvCNzpSY1qxXduvVeLxrlnpJPojWNIkQ\"\n",
        "TELEGRAM_USER_ID = 5155206817  # твой ID (число)\n",
        "\n",
        "# Подключаем базу с фактами\n",
        "conn = sqlite3.connect(\"facts.db\")\n",
        "cursor = conn.cursor()\n",
        "cursor.execute(\"\"\"\n",
        "CREATE TABLE IF NOT EXISTS facts (\n",
        "    id INTEGER PRIMARY KEY AUTOINCREMENT,\n",
        "    statement TEXT UNIQUE,\n",
        "    is_true INTEGER,\n",
        "    proof TEXT\n",
        ")\n",
        "\"\"\")\n",
        "conn.commit()\n",
        "\n",
        "# Функция для проверки математического утверждения\n",
        "def check_math(statement):\n",
        "    try:\n",
        "        if \"==\" in statement:\n",
        "            left, right = statement.split(\"==\")\n",
        "            return sp.simplify(sympify(left) - sympify(right)) == 0\n",
        "        else:\n",
        "            return bool(sympify(statement))\n",
        "    except:\n",
        "        return None\n",
        "\n",
        "# Сохраняем факт\n",
        "def save_fact(statement, is_true, proof=\"\"):\n",
        "    try:\n",
        "        cursor.execute(\"INSERT OR IGNORE INTO facts (statement, is_true, proof) VALUES (?, ?, ?)\",\n",
        "                       (statement, int(is_true), proof))\n",
        "        conn.commit()\n",
        "    except Exception as e:\n",
        "        print(\"Ошибка при сохранении факта:\", e)\n",
        "\n",
        "# Обработка сообщений\n",
        "async def handle_message(update: Update, context: ContextTypes.DEFAULT_TYPE):\n",
        "    user_id = update.effective_user.id\n",
        "\n",
        "    if user_id != TELEGRAM_USER_ID:\n",
        "        await update.message.reply_text(\"⛔ Доступ запрещён.\")\n",
        "        return\n",
        "\n",
        "    text = update.message.text.strip()\n",
        "    print(f\"📩 Запрос: {text}\")  # Выводим запрос в Colab\n",
        "\n",
        "    result = check_math(text)\n",
        "    if result is True:\n",
        "        reply = \"✅ Это верно.\"\n",
        "        save_fact(text, True, \"Проверено SymPy\")\n",
        "    elif result is False:\n",
        "        reply = \"❌ Это неверно.\"\n",
        "        save_fact(text, False, \"Проверено SymPy\")\n",
        "    else:\n",
        "        reply = \"🤔 Не удалось проверить.\"\n",
        "\n",
        "    print(f\"💬 Ответ: {reply}\")  # Выводим ответ в Colab\n",
        "    await update.message.reply_text(reply)\n",
        "\n",
        "# Запуск бота\n",
        "app = ApplicationBuilder().token(TELEGRAM_TOKEN).build()\n",
        "app.add_handler(MessageHandler(filters.TEXT & ~filters.COMMAND, handle_message))\n",
        "\n",
        "print(\"🤖 Бот Numen запущен! Жду сообщений в Telegram...\")\n",
        "app.run_polling()"
      ],
      "metadata": {
        "colab": {
          "base_uri": "https://localhost:8080/"
        },
        "id": "EplnSpaRi4RI",
        "outputId": "2e08d5c2-55f7-467b-9174-8f79b3850840"
      },
      "execution_count": null,
      "outputs": [
        {
          "output_type": "stream",
          "name": "stdout",
          "text": [
            "🤖 Бот Numen запущен! Жду сообщений в Telegram...\n",
            "📩 Запрос: 2+2=4\n",
            "2+2=5\n",
            "sqrt(16) = 4\n",
            "(5*3) + (10/2) = 20\n",
            "💬 Ответ: 🤔 Не удалось проверить.\n"
          ]
        }
      ]
    }
  ],
  "metadata": {
    "colab": {
      "provenance": [],
      "authorship_tag": "ABX9TyOpnE3AjlovwOyaoWFgdrCS",
      "include_colab_link": true
    },
    "kernelspec": {
      "display_name": "Python 3",
      "name": "python3"
    },
    "language_info": {
      "name": "python"
    }
  },
  "nbformat": 4,
  "nbformat_minor": 0
}